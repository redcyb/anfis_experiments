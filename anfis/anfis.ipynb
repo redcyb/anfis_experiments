{
 "cells": [
  {
   "cell_type": "code",
   "execution_count": 1,
   "metadata": {},
   "outputs": [
    {
     "name": "stdout",
     "output_type": "stream",
     "text": [
      "[[6.91440011e-13 7.58256042e-10 8.31528028e-07 9.11051194e-04\n",
      "  5.00000000e-01 9.99088949e-01 9.99999168e-01 9.99999999e-01\n",
      "  1.00000000e+00 1.00000000e+00]\n",
      " [6.30511676e-16 6.91440011e-13 7.58256042e-10 8.31528028e-07\n",
      "  9.11051194e-04 5.00000000e-01 9.99088949e-01 9.99999168e-01\n",
      "  9.99999999e-01 1.00000000e+00]\n",
      " [5.74952226e-19 6.30511676e-16 6.91440011e-13 7.58256042e-10\n",
      "  8.31528028e-07 9.11051194e-04 5.00000000e-01 9.99088949e-01\n",
      "  9.99999168e-01 9.99999999e-01]\n",
      " [5.24288566e-22 5.74952226e-19 6.30511676e-16 6.91440011e-13\n",
      "  7.58256042e-10 8.31528028e-07 9.11051194e-04 5.00000000e-01\n",
      "  9.99088949e-01 9.99999168e-01]]\n",
      "4\n"
     ]
    },
    {
     "data": {
      "text/plain": [
       "<matplotlib.figure.Figure at 0x7fd7846594a8>"
      ]
     },
     "metadata": {},
     "output_type": "display_data"
    }
   ],
   "source": [
    "from src.utils import plotMFs\n",
    "\n",
    "mf_sigmoids = [\n",
    "    [\n",
    "        {'b': 4, 'c': 7},\n",
    "        {'b': 5, 'c': 7},\n",
    "        {'b': 6, 'c': 7},\n",
    "        {'b': 7, 'c': 7},\n",
    "    ],\n",
    "    [\n",
    "        {'b': 2, 'c': 7},\n",
    "        {'b': 2.7, 'c': 7},\n",
    "        {'b': 3.3, 'c': 7},\n",
    "        {'b': 4, 'c': 7},\n",
    "    ],\n",
    "    [\n",
    "        {'b': 1, 'c': 7},\n",
    "        {'b': 3, 'c': 7},\n",
    "        {'b': 5, 'c': 7},\n",
    "        {'b': 6.69, 'c': 7},\n",
    "    ],\n",
    "    [\n",
    "        {'b': 0.2, 'c': 7},\n",
    "        {'b': 0.8, 'c': 7},\n",
    "        {'b': 1.8, 'c': 7},\n",
    "        {'b': 2.5, 'c': 7},\n",
    "    ],\n",
    "]\n",
    "\n",
    "plotMFs((0, 10), mf_sigmoids[0])"
   ]
  },
  {
   "cell_type": "code",
   "execution_count": null,
   "metadata": {},
   "outputs": [],
   "source": [
    ""
   ]
  }
 ],
 "metadata": {
  "kernelspec": {
   "display_name": "Python 3",
   "language": "python",
   "name": "python3"
  },
  "language_info": {
   "codemirror_mode": {
    "name": "ipython",
    "version": 3.0
   },
   "file_extension": ".py",
   "mimetype": "text/x-python",
   "name": "python",
   "nbconvert_exporter": "python",
   "pygments_lexer": "ipython3",
   "version": "3.6.3"
  }
 },
 "nbformat": 4,
 "nbformat_minor": 0
}